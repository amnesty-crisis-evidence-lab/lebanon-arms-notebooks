{
 "cells": [
  {
   "cell_type": "code",
   "execution_count": 1,
   "metadata": {},
   "outputs": [],
   "source": [
    "import pandas as pd\n",
    "import geopandas as gpd"
   ]
  },
  {
   "cell_type": "markdown",
   "metadata": {},
   "source": [
    "## Load processed incidents data"
   ]
  },
  {
   "cell_type": "code",
   "execution_count": 2,
   "metadata": {},
   "outputs": [
    {
     "name": "stdout",
     "output_type": "stream",
     "text": [
      "<class 'pandas.core.frame.DataFrame'>\n",
      "RangeIndex: 78 entries, 0 to 77\n",
      "Data columns (total 5 columns):\n",
      " #   Column        Non-Null Count  Dtype  \n",
      "---  ------        --------------  -----  \n",
      " 0   content_code  78 non-null     object \n",
      " 1   event_date    70 non-null     object \n",
      " 2   longitude     78 non-null     float64\n",
      " 3   latitude      78 non-null     float64\n",
      " 4   tooltip       78 non-null     object \n",
      "dtypes: float64(2), object(3)\n",
      "memory usage: 3.2+ KB\n"
     ]
    },
    {
     "data": {
      "text/html": [
       "<div>\n",
       "<style scoped>\n",
       "    .dataframe tbody tr th:only-of-type {\n",
       "        vertical-align: middle;\n",
       "    }\n",
       "\n",
       "    .dataframe tbody tr th {\n",
       "        vertical-align: top;\n",
       "    }\n",
       "\n",
       "    .dataframe thead th {\n",
       "        text-align: right;\n",
       "    }\n",
       "</style>\n",
       "<table border=\"1\" class=\"dataframe\">\n",
       "  <thead>\n",
       "    <tr style=\"text-align: right;\">\n",
       "      <th></th>\n",
       "      <th>content_code</th>\n",
       "      <th>event_date</th>\n",
       "      <th>longitude</th>\n",
       "      <th>latitude</th>\n",
       "      <th>tooltip</th>\n",
       "    </tr>\n",
       "  </thead>\n",
       "  <tbody>\n",
       "    <tr>\n",
       "      <th>0</th>\n",
       "      <td>LB001</td>\n",
       "      <td>2020-01-18</td>\n",
       "      <td>35.507076</td>\n",
       "      <td>33.897517</td>\n",
       "      <td>Vehicle, vehicle-mounted weapon</td>\n",
       "    </tr>\n",
       "    <tr>\n",
       "      <th>1</th>\n",
       "      <td>LB002</td>\n",
       "      <td>2020-08-08</td>\n",
       "      <td>35.506168</td>\n",
       "      <td>33.897800</td>\n",
       "      <td>Vehicle, vehicle-mounted weapon</td>\n",
       "    </tr>\n",
       "    <tr>\n",
       "      <th>2</th>\n",
       "      <td>LB004</td>\n",
       "      <td>2020-01-09</td>\n",
       "      <td>35.507076</td>\n",
       "      <td>33.897517</td>\n",
       "      <td>Launcher, munition, 2 x vehicle, vehicle-mount...</td>\n",
       "    </tr>\n",
       "    <tr>\n",
       "      <th>3</th>\n",
       "      <td>LB005_1</td>\n",
       "      <td>2020-01-15</td>\n",
       "      <td>35.493568</td>\n",
       "      <td>33.879776</td>\n",
       "      <td>Launcher</td>\n",
       "    </tr>\n",
       "    <tr>\n",
       "      <th>4</th>\n",
       "      <td>LB005_2</td>\n",
       "      <td>2020-01-15</td>\n",
       "      <td>35.495533</td>\n",
       "      <td>33.879205</td>\n",
       "      <td>Launcher</td>\n",
       "    </tr>\n",
       "  </tbody>\n",
       "</table>\n",
       "</div>"
      ],
      "text/plain": [
       "  content_code  event_date  longitude   latitude  \\\n",
       "0        LB001  2020-01-18  35.507076  33.897517   \n",
       "1        LB002  2020-08-08  35.506168  33.897800   \n",
       "2        LB004  2020-01-09  35.507076  33.897517   \n",
       "3      LB005_1  2020-01-15  35.493568  33.879776   \n",
       "4      LB005_2  2020-01-15  35.495533  33.879205   \n",
       "\n",
       "                                             tooltip  \n",
       "0                    Vehicle, vehicle-mounted weapon  \n",
       "1                    Vehicle, vehicle-mounted weapon  \n",
       "2  Launcher, munition, 2 x vehicle, vehicle-mount...  \n",
       "3                                           Launcher  \n",
       "4                                           Launcher  "
      ]
     },
     "execution_count": 2,
     "metadata": {},
     "output_type": "execute_result"
    }
   ],
   "source": [
    "df = pd.read_csv(\n",
    "    \"../data-sandbox/data/processed/lebanon-arms-map.csv\",\n",
    "    usecols=[*range(0, 4), 6],\n",
    ")\n",
    "\n",
    "df.info()\n",
    "df.head()"
   ]
  },
  {
   "cell_type": "code",
   "execution_count": 3,
   "metadata": {},
   "outputs": [
    {
     "name": "stdout",
     "output_type": "stream",
     "text": [
      "<class 'geopandas.geodataframe.GeoDataFrame'>\n",
      "RangeIndex: 78 entries, 0 to 77\n",
      "Data columns (total 6 columns):\n",
      " #   Column        Non-Null Count  Dtype   \n",
      "---  ------        --------------  -----   \n",
      " 0   content_code  78 non-null     object  \n",
      " 1   event_date    70 non-null     object  \n",
      " 2   longitude     78 non-null     float64 \n",
      " 3   latitude      78 non-null     float64 \n",
      " 4   tooltip       78 non-null     object  \n",
      " 5   geometry      78 non-null     geometry\n",
      "dtypes: float64(2), geometry(1), object(3)\n",
      "memory usage: 3.8+ KB\n"
     ]
    },
    {
     "data": {
      "text/html": [
       "<div>\n",
       "<style scoped>\n",
       "    .dataframe tbody tr th:only-of-type {\n",
       "        vertical-align: middle;\n",
       "    }\n",
       "\n",
       "    .dataframe tbody tr th {\n",
       "        vertical-align: top;\n",
       "    }\n",
       "\n",
       "    .dataframe thead th {\n",
       "        text-align: right;\n",
       "    }\n",
       "</style>\n",
       "<table border=\"1\" class=\"dataframe\">\n",
       "  <thead>\n",
       "    <tr style=\"text-align: right;\">\n",
       "      <th></th>\n",
       "      <th>content_code</th>\n",
       "      <th>event_date</th>\n",
       "      <th>longitude</th>\n",
       "      <th>latitude</th>\n",
       "      <th>tooltip</th>\n",
       "      <th>geometry</th>\n",
       "    </tr>\n",
       "  </thead>\n",
       "  <tbody>\n",
       "    <tr>\n",
       "      <th>0</th>\n",
       "      <td>LB001</td>\n",
       "      <td>2020-01-18</td>\n",
       "      <td>35.507076</td>\n",
       "      <td>33.897517</td>\n",
       "      <td>Vehicle, vehicle-mounted weapon</td>\n",
       "      <td>POINT (35.50708 33.89752)</td>\n",
       "    </tr>\n",
       "    <tr>\n",
       "      <th>1</th>\n",
       "      <td>LB002</td>\n",
       "      <td>2020-08-08</td>\n",
       "      <td>35.506168</td>\n",
       "      <td>33.897800</td>\n",
       "      <td>Vehicle, vehicle-mounted weapon</td>\n",
       "      <td>POINT (35.50617 33.89780)</td>\n",
       "    </tr>\n",
       "    <tr>\n",
       "      <th>2</th>\n",
       "      <td>LB004</td>\n",
       "      <td>2020-01-09</td>\n",
       "      <td>35.507076</td>\n",
       "      <td>33.897517</td>\n",
       "      <td>Launcher, munition, 2 x vehicle, vehicle-mount...</td>\n",
       "      <td>POINT (35.50708 33.89752)</td>\n",
       "    </tr>\n",
       "    <tr>\n",
       "      <th>3</th>\n",
       "      <td>LB005_1</td>\n",
       "      <td>2020-01-15</td>\n",
       "      <td>35.493568</td>\n",
       "      <td>33.879776</td>\n",
       "      <td>Launcher</td>\n",
       "      <td>POINT (35.49357 33.87978)</td>\n",
       "    </tr>\n",
       "    <tr>\n",
       "      <th>4</th>\n",
       "      <td>LB005_2</td>\n",
       "      <td>2020-01-15</td>\n",
       "      <td>35.495533</td>\n",
       "      <td>33.879205</td>\n",
       "      <td>Launcher</td>\n",
       "      <td>POINT (35.49553 33.87921)</td>\n",
       "    </tr>\n",
       "  </tbody>\n",
       "</table>\n",
       "</div>"
      ],
      "text/plain": [
       "  content_code  event_date  longitude   latitude  \\\n",
       "0        LB001  2020-01-18  35.507076  33.897517   \n",
       "1        LB002  2020-08-08  35.506168  33.897800   \n",
       "2        LB004  2020-01-09  35.507076  33.897517   \n",
       "3      LB005_1  2020-01-15  35.493568  33.879776   \n",
       "4      LB005_2  2020-01-15  35.495533  33.879205   \n",
       "\n",
       "                                             tooltip  \\\n",
       "0                    Vehicle, vehicle-mounted weapon   \n",
       "1                    Vehicle, vehicle-mounted weapon   \n",
       "2  Launcher, munition, 2 x vehicle, vehicle-mount...   \n",
       "3                                           Launcher   \n",
       "4                                           Launcher   \n",
       "\n",
       "                    geometry  \n",
       "0  POINT (35.50708 33.89752)  \n",
       "1  POINT (35.50617 33.89780)  \n",
       "2  POINT (35.50708 33.89752)  \n",
       "3  POINT (35.49357 33.87978)  \n",
       "4  POINT (35.49553 33.87921)  "
      ]
     },
     "execution_count": 3,
     "metadata": {},
     "output_type": "execute_result"
    }
   ],
   "source": [
    "gdf = gpd.GeoDataFrame(\n",
    "    df, geometry=gpd.points_from_xy(df[\"longitude\"], df[\"latitude\"])\n",
    ")\n",
    "\n",
    "gdf.info()\n",
    "gdf.head()"
   ]
  },
  {
   "cell_type": "markdown",
   "metadata": {},
   "source": [
    "## Get bounding box for Mapbox map"
   ]
  },
  {
   "cell_type": "code",
   "execution_count": 4,
   "metadata": {},
   "outputs": [
    {
     "name": "stdout",
     "output_type": "stream",
     "text": [
      "[35.4832837 33.878763  35.829765  34.42087  ]\n"
     ]
    }
   ],
   "source": [
    "print(gdf[\"geometry\"].total_bounds)  # minLng, minLat, maxLng, maxLat"
   ]
  },
  {
   "cell_type": "markdown",
   "metadata": {},
   "source": [
    "## Write to GeoJSON"
   ]
  },
  {
   "cell_type": "code",
   "execution_count": 5,
   "metadata": {},
   "outputs": [],
   "source": [
    "gdf.to_file(\"data/processed/lebanon-arms.json\", driver=\"GeoJSON\")"
   ]
  }
 ],
 "metadata": {
  "kernelspec": {
   "display_name": "Python 3",
   "language": "python",
   "name": "python3"
  },
  "language_info": {
   "codemirror_mode": {
    "name": "ipython",
    "version": 3
   },
   "file_extension": ".py",
   "mimetype": "text/x-python",
   "name": "python",
   "nbconvert_exporter": "python",
   "pygments_lexer": "ipython3",
   "version": "3.8.6"
  }
 },
 "nbformat": 4,
 "nbformat_minor": 4
}
